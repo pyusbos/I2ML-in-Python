{
 "cells": [
  {
   "cell_type": "markdown",
   "metadata": {},
   "source": [
    "# I2ML regression"
   ]
  },
  {
   "cell_type": "code",
   "execution_count": 1,
   "metadata": {},
   "outputs": [],
   "source": [
    "import pandas as pd\n",
    "import numpy as np\n",
    "import matplotlib.pyplot as plt\n",
    "import operator\n",
    "from matplotlib.colors import ListedColormap\n",
    "from math import log"
   ]
  },
  {
   "cell_type": "markdown",
   "metadata": {},
   "source": [
    "# 1. Regression - Linear Model & Gradient Descent"
   ]
  },
  {
   "cell_type": "markdown",
   "metadata": {},
   "source": [
    "# 1.1 Basic Idea"
   ]
  },
  {
   "cell_type": "markdown",
   "metadata": {},
   "source": [
    "Gradient Descent is a first-order iterative optimization algorithm for finding a local minimum of a a differentiable function.\n",
    "\n",
    "For one sample:<br />\n",
    "Given feature $X: X_1, X_2, X_3, ..., X_i$ and target Y<br />\n",
    "We can formulate a regression model: $f(X)=\\theta_0+\\theta_1*X_1+...+\\theta_i*X_i$<br />\n",
    "Let $X_0 = 1$, $f(X)=\\sum\\theta_i*X_i$<br />\n",
    "So, the regression loss is: $L(Y,f(X))=(Y-f(X))^2$<br />\n",
    "<br />\n",
    "For n samples:<br />\n",
    "The regression loss is: $L(Y,f(X))=\\frac{1}{n}\\sum(Y-f(X))^2$<br />\n",
    "<br />\n",
    "Then, our optimization problem becomes: $\\hat{\\theta}=argminL(Y,f(X))$<br />\n",
    "We can solve this kind of minimization problem using an iterative technique termed Gradient Descent.<br />\n",
    "<br />\n",
    "Gradient descent method:<br />\n",
    "* step 1: Initialize vector $\\theta$: $\\theta^0 = 0$ (or randomly), initialize stepsize $\\lambda$<br />\n",
    "* step 2: Evaluate the gradient at current value of the parameter vector $\\theta^t$: $\\frac{\\partial L(Y,f(X))}{\\partial \\theta}\\mid_{\\theta=\\theta_t}$\n",
    "* step 3: Update the estimate $\\theta$: $\\theta_{t+1}=\\theta_t-\\lambda*\\frac{\\partial L(Y,f(X))}{\\partial \\theta}\\mid_{\\theta=\\theta_t}$<br />\n",
    "* step 4: Go to step 2\n",
    "\n",
    "Stopping crierion:<br />\n",
    "* Set maximum iterations number. The iterations stop when reach the maximum iterations number.\n",
    "* Set $\\epsilon$ to check if $\\theta$ is not changing notably. The iterations stop when $\\mid\\mid\\theta_{t+1}-\\theta_t\\mid\\mid_2<\\epsilon$."
   ]
  },
  {
   "cell_type": "markdown",
   "metadata": {},
   "source": [
    "# 1.2 Implementation"
   ]
  },
  {
   "cell_type": "code",
   "execution_count": 2,
   "metadata": {},
   "outputs": [],
   "source": [
    "# function to perform gradient descent\n",
    "def gradient_descent(Y,X,stepsize,max_iterations,epsilon):\n",
    "    Y = Y.tolist()\n",
    "    X = X.tolist()\n",
    "    \n",
    "    n = len(Y)\n",
    "    m = len(X[0])\n",
    "    \n",
    "    # initialize theta\n",
    "    theta = m * [0]\n",
    "    \n",
    "    # record changes of theta \n",
    "    theta_storage = (max_iterations+1) * [0]\n",
    "    theta_storage[0] = theta\n",
    "    \n",
    "    # update theta\n",
    "    for i in range(1,max_iterations+1):\n",
    "        \n",
    "        pred = n * [0]\n",
    "        diff = n * [0]\n",
    "        for j in range(n):\n",
    "            for k in range(m):\n",
    "                pred[j] = pred[j] + theta[k]*X[j][k]\n",
    "            diff[j] = pred[j] - Y[j]\n",
    "        \n",
    "        temp = theta\n",
    "        theta = m * [0]\n",
    "        for p in range(m):\n",
    "            diff_sum = 0\n",
    "            for q in range(n):\n",
    "                diff_sum = diff_sum + diff[q]*X[q][p]\n",
    "            theta[p] = temp[p] - stepsize*diff_sum*2/n\n",
    "        \n",
    "        theta_storage[i] = theta\n",
    "        \n",
    "        iteration_time = i\n",
    "        \n",
    "        # check convergence\n",
    "        dist = 0\n",
    "        for l in range(m):\n",
    "            dist = dist + (theta_storage[i][l] - theta_storage[i-1][l])**2\n",
    "        \n",
    "        if pow(dist,0.5) < epsilon:\n",
    "            break\n",
    "                       \n",
    "    # show changes of theta\n",
    "    iterations = np.arange(0,iteration_time+1,1)\n",
    "        \n",
    "    for s in range(m):\n",
    "        theta_array = np.zeros(iteration_time+1)\n",
    "        for t in range(iteration_time+1):\n",
    "            theta_array[t] = theta_storage[t][s]\n",
    "            \n",
    "        plt.plot(iterations,theta_array)\n",
    "        plt.xlabel(\"iterations\")\n",
    "        plt.ylabel(\"theta\"+str(s))\n",
    "        plt.show()\n",
    "                \n",
    "    return theta       "
   ]
  },
  {
   "cell_type": "code",
   "execution_count": 3,
   "metadata": {},
   "outputs": [],
   "source": [
    "# function to do prediction using gradient descent\n",
    "def predict_gradient_descent(X,theta):\n",
    "    for i in range(len(X)):\n",
    "        Y = X[i]*theta[i]\n",
    "    return Y"
   ]
  },
  {
   "cell_type": "markdown",
   "metadata": {},
   "source": [
    "# 1.3 Example\n",
    "\n",
    "Use the dataset \"salary_year\" to show how gradient descent works. This dataset has two column: salary and years of experience. We are going to find the relation between salary and years of experience."
   ]
  },
  {
   "cell_type": "code",
   "execution_count": 4,
   "metadata": {},
   "outputs": [],
   "source": [
    "# import dataset\n",
    "salary_year = pd.read_csv(\"salary_year.csv\")"
   ]
  },
  {
   "cell_type": "code",
   "execution_count": 5,
   "metadata": {
    "scrolled": true
   },
   "outputs": [
    {
     "data": {
      "text/html": [
       "<div>\n",
       "<style scoped>\n",
       "    .dataframe tbody tr th:only-of-type {\n",
       "        vertical-align: middle;\n",
       "    }\n",
       "\n",
       "    .dataframe tbody tr th {\n",
       "        vertical-align: top;\n",
       "    }\n",
       "\n",
       "    .dataframe thead th {\n",
       "        text-align: right;\n",
       "    }\n",
       "</style>\n",
       "<table border=\"1\" class=\"dataframe\">\n",
       "  <thead>\n",
       "    <tr style=\"text-align: right;\">\n",
       "      <th></th>\n",
       "      <th>YearsExperience</th>\n",
       "      <th>Salary</th>\n",
       "    </tr>\n",
       "  </thead>\n",
       "  <tbody>\n",
       "    <tr>\n",
       "      <td>0</td>\n",
       "      <td>1.1</td>\n",
       "      <td>39343.0</td>\n",
       "    </tr>\n",
       "    <tr>\n",
       "      <td>1</td>\n",
       "      <td>1.3</td>\n",
       "      <td>46205.0</td>\n",
       "    </tr>\n",
       "    <tr>\n",
       "      <td>2</td>\n",
       "      <td>1.5</td>\n",
       "      <td>37731.0</td>\n",
       "    </tr>\n",
       "    <tr>\n",
       "      <td>3</td>\n",
       "      <td>2.0</td>\n",
       "      <td>43525.0</td>\n",
       "    </tr>\n",
       "    <tr>\n",
       "      <td>4</td>\n",
       "      <td>2.2</td>\n",
       "      <td>39891.0</td>\n",
       "    </tr>\n",
       "    <tr>\n",
       "      <td>5</td>\n",
       "      <td>2.9</td>\n",
       "      <td>56642.0</td>\n",
       "    </tr>\n",
       "    <tr>\n",
       "      <td>6</td>\n",
       "      <td>3.0</td>\n",
       "      <td>60150.0</td>\n",
       "    </tr>\n",
       "    <tr>\n",
       "      <td>7</td>\n",
       "      <td>3.2</td>\n",
       "      <td>54445.0</td>\n",
       "    </tr>\n",
       "    <tr>\n",
       "      <td>8</td>\n",
       "      <td>3.2</td>\n",
       "      <td>64445.0</td>\n",
       "    </tr>\n",
       "    <tr>\n",
       "      <td>9</td>\n",
       "      <td>3.7</td>\n",
       "      <td>57189.0</td>\n",
       "    </tr>\n",
       "    <tr>\n",
       "      <td>10</td>\n",
       "      <td>3.9</td>\n",
       "      <td>63218.0</td>\n",
       "    </tr>\n",
       "    <tr>\n",
       "      <td>11</td>\n",
       "      <td>4.0</td>\n",
       "      <td>55794.0</td>\n",
       "    </tr>\n",
       "    <tr>\n",
       "      <td>12</td>\n",
       "      <td>4.0</td>\n",
       "      <td>56957.0</td>\n",
       "    </tr>\n",
       "    <tr>\n",
       "      <td>13</td>\n",
       "      <td>4.1</td>\n",
       "      <td>57081.0</td>\n",
       "    </tr>\n",
       "    <tr>\n",
       "      <td>14</td>\n",
       "      <td>4.5</td>\n",
       "      <td>61111.0</td>\n",
       "    </tr>\n",
       "    <tr>\n",
       "      <td>15</td>\n",
       "      <td>4.9</td>\n",
       "      <td>67938.0</td>\n",
       "    </tr>\n",
       "    <tr>\n",
       "      <td>16</td>\n",
       "      <td>5.1</td>\n",
       "      <td>66029.0</td>\n",
       "    </tr>\n",
       "    <tr>\n",
       "      <td>17</td>\n",
       "      <td>5.3</td>\n",
       "      <td>83088.0</td>\n",
       "    </tr>\n",
       "    <tr>\n",
       "      <td>18</td>\n",
       "      <td>5.9</td>\n",
       "      <td>81363.0</td>\n",
       "    </tr>\n",
       "    <tr>\n",
       "      <td>19</td>\n",
       "      <td>6.0</td>\n",
       "      <td>93940.0</td>\n",
       "    </tr>\n",
       "    <tr>\n",
       "      <td>20</td>\n",
       "      <td>6.8</td>\n",
       "      <td>91738.0</td>\n",
       "    </tr>\n",
       "    <tr>\n",
       "      <td>21</td>\n",
       "      <td>7.1</td>\n",
       "      <td>98273.0</td>\n",
       "    </tr>\n",
       "    <tr>\n",
       "      <td>22</td>\n",
       "      <td>7.9</td>\n",
       "      <td>101302.0</td>\n",
       "    </tr>\n",
       "    <tr>\n",
       "      <td>23</td>\n",
       "      <td>8.2</td>\n",
       "      <td>113812.0</td>\n",
       "    </tr>\n",
       "    <tr>\n",
       "      <td>24</td>\n",
       "      <td>8.7</td>\n",
       "      <td>109431.0</td>\n",
       "    </tr>\n",
       "    <tr>\n",
       "      <td>25</td>\n",
       "      <td>9.0</td>\n",
       "      <td>105582.0</td>\n",
       "    </tr>\n",
       "    <tr>\n",
       "      <td>26</td>\n",
       "      <td>9.5</td>\n",
       "      <td>116969.0</td>\n",
       "    </tr>\n",
       "    <tr>\n",
       "      <td>27</td>\n",
       "      <td>9.6</td>\n",
       "      <td>112635.0</td>\n",
       "    </tr>\n",
       "    <tr>\n",
       "      <td>28</td>\n",
       "      <td>10.3</td>\n",
       "      <td>122391.0</td>\n",
       "    </tr>\n",
       "    <tr>\n",
       "      <td>29</td>\n",
       "      <td>10.5</td>\n",
       "      <td>121872.0</td>\n",
       "    </tr>\n",
       "  </tbody>\n",
       "</table>\n",
       "</div>"
      ],
      "text/plain": [
       "    YearsExperience    Salary\n",
       "0               1.1   39343.0\n",
       "1               1.3   46205.0\n",
       "2               1.5   37731.0\n",
       "3               2.0   43525.0\n",
       "4               2.2   39891.0\n",
       "5               2.9   56642.0\n",
       "6               3.0   60150.0\n",
       "7               3.2   54445.0\n",
       "8               3.2   64445.0\n",
       "9               3.7   57189.0\n",
       "10              3.9   63218.0\n",
       "11              4.0   55794.0\n",
       "12              4.0   56957.0\n",
       "13              4.1   57081.0\n",
       "14              4.5   61111.0\n",
       "15              4.9   67938.0\n",
       "16              5.1   66029.0\n",
       "17              5.3   83088.0\n",
       "18              5.9   81363.0\n",
       "19              6.0   93940.0\n",
       "20              6.8   91738.0\n",
       "21              7.1   98273.0\n",
       "22              7.9  101302.0\n",
       "23              8.2  113812.0\n",
       "24              8.7  109431.0\n",
       "25              9.0  105582.0\n",
       "26              9.5  116969.0\n",
       "27              9.6  112635.0\n",
       "28             10.3  122391.0\n",
       "29             10.5  121872.0"
      ]
     },
     "execution_count": 5,
     "metadata": {},
     "output_type": "execute_result"
    }
   ],
   "source": [
    "# show dataset\n",
    "salary_year"
   ]
  },
  {
   "cell_type": "code",
   "execution_count": 6,
   "metadata": {
    "scrolled": true
   },
   "outputs": [
    {
     "data": {
      "text/plain": [
       "Text(0.5, 1.0, 'salary vs years of experience')"
      ]
     },
     "execution_count": 6,
     "metadata": {},
     "output_type": "execute_result"
    },
    {
     "data": {
      "image/png": "[encoded data removed]",
      "text/plain": [
       "<Figure size 432x288 with 1 Axes>"
      ]
     },
     "metadata": {
      "needs_background": "light"
     },
     "output_type": "display_data"
    }
   ],
   "source": [
    "# visulize dataset\n",
    "salary = np.asarray(salary_year['Salary'])\n",
    "years = np.asarray(salary_year['YearsExperience'])\n",
    "plt.scatter(years,salary)\n",
    "plt.xlabel(\"years of experience\")\n",
    "plt.ylabel(\"salary\")\n",
    "plt.title(\"salary vs years of experience\")"
   ]
  },
  {
   "cell_type": "code",
   "execution_count": 7,
   "metadata": {},
   "outputs": [],
   "source": [
    "# prepocess data\n",
    "salary_year[\"X_0\"] = 1\n",
    "year = salary_year.iloc[:,[2,0]]\n",
    "year = year.values"
   ]
  },
  {
   "cell_type": "code",
   "execution_count": 8,
   "metadata": {},
   "outputs": [
    {
     "data": {
      "image/png": "[encoded data removed]",
      "text/plain": [
       "<Figure size 432x288 with 1 Axes>"
      ]
     },
     "metadata": {
      "needs_background": "light"
     },
     "output_type": "display_data"
    },
    {
     "data": {
      "image/png": "[encoded data removed]",
      "text/plain": [
       "<Figure size 432x288 with 1 Axes>"
      ]
     },
     "metadata": {
      "needs_background": "light"
     },
     "output_type": "display_data"
    },
    {
     "data": {
      "text/plain": [
       "[25787.240971208394, 9450.698250047992]"
      ]
     },
     "execution_count": 8,
     "metadata": {},
     "output_type": "execute_result"
    }
   ],
   "source": [
    "# apply function gradient_descent\n",
    "theta_result = gradient_descent(salary,year,0.01,2000,0.0001)\n",
    "theta_result"
   ]
  },
  {
   "cell_type": "code",
   "execution_count": 9,
   "metadata": {
    "scrolled": true
   },
   "outputs": [
    {
     "data": {
      "text/plain": [
       "[<matplotlib.lines.Line2D at 0x121b71d50>]"
      ]
     },
     "execution_count": 9,
     "metadata": {},
     "output_type": "execute_result"
    },
    {
     "data": {
      "image/png": "[encoded data removed]",
      "text/plain": [
       "<Figure size 432x288 with 1 Axes>"
      ]
     },
     "metadata": {
      "needs_background": "light"
     },
     "output_type": "display_data"
    }
   ],
   "source": [
    "# visulaization\n",
    "f = np.zeros(len(years))\n",
    "for i in range(len(years)):\n",
    "    f[i] = theta_result[0] + theta_result[1]*years[i]\n",
    "plt.scatter(years,salary,color = \"blue\")\n",
    "plt.xlabel(\"years of experience\")\n",
    "plt.ylabel(\"salary\")\n",
    "plt.title(\"salary vs years of experience\")\n",
    "plt.plot(years,f,color = \"red\")"
   ]
  },
  {
   "cell_type": "markdown",
   "metadata": {},
   "source": [
    "# 1.4 Quiz"
   ]
  },
  {
   "cell_type": "markdown",
   "metadata": {},
   "source": [
    "**Question 1** : Consider the training set：<br/>\n",
    "\n",
    "|x|y|\n",
    "|-----|-----|\n",
    "|1|0.5\n",
    "|2|1|\n",
    "|4|2|\n",
    "|0|0|\n",
    "\n",
    "Consider the linear regression model $h_\\theta(x) = \\theta_0+\\theta_1x$. What are the values of $\\theta_0$ and $\\theta_1$ that you would expect to obtain upon running gradient descent on this model? (Linear regression will be able to fit this data perfectly.)\n",
    "\n",
    "A.$\\theta_0 = 0.5$,$\\theta_1 = 0$<br/>\n",
    "B.$\\theta_0 = 0.5$,$\\theta_1 = 0.5$<br/>\n",
    "C.$\\theta_0 = 1$,$\\theta_1 = 0.5$<br/>\n",
    "D.$\\theta_0 = 0$,$\\theta_1 = 0.5$<br/>\n",
    "\n",
    "Answer:D"
   ]
  },
  {
   "cell_type": "markdown",
   "metadata": {},
   "source": [
    "**Question 2** : Based on the traning set in question 1, suppose we set $\\theta_0 = -1$, $\\theta_1 = 0.5$. What is $h_\\theta(4)$?<br />\n",
    "\n",
    "A.1<br />\n",
    "B.2<br />\n",
    "C.3<br />\n",
    "D.4<br />\n",
    "<br />\n",
    "Answer:A"
   ]
  },
  {
   "cell_type": "markdown",
   "metadata": {},
   "source": [
    "**Question 3** : We can get multiple local optimum solutions if we solve a linear regression problem by\n",
    "minimizing the sum of squared errors using gradient descent.<br />\n",
    "\n",
    "A.TRUE<br />\n",
    "B.FALSE<br />\n",
    "\n",
    "Answer:B "
   ]
  },
  {
   "cell_type": "markdown",
   "metadata": {},
   "source": [
    "**Question 4** : Gradient Descent can only be used for Regression Problems.<br />\n",
    "\n",
    "A.TRUE<br />\n",
    "B.FALSE<br />\n",
    "\n",
    "Answer:B "
   ]
  },
  {
   "cell_type": "markdown",
   "metadata": {},
   "source": [
    "# 2. Regression - KNN"
   ]
  },
  {
   "cell_type": "markdown",
   "metadata": {},
   "source": [
    "# 2.1 Basic Idea"
   ]
  },
  {
   "cell_type": "markdown",
   "metadata": {},
   "source": [
    "K Nearest Neighbors(KNN) is a non-parametric method used for classification and regression. In both cases, the input consists of the k closest training examples in the feature space. The output depends on whether k-NN is used for classification or regression:\n",
    "* In k-NN classification, the output is a class membership. An object is classified by a plurality vote of its neighbors, with the object being assigned to the class most common among its k nearest neighbors (k is a positive integer, typically small). If k = 1, then the object is simply assigned to the class of that single nearest neighbor.\n",
    "* In k-NN regression, the output is the property value for the object. This value is the average of the values of k nearest neighbors.<br />\n",
    "\n",
    "Most common distance measures:\n",
    "* Euclidean distance: $d(a,b)=\\sqrt{(a_1-b_1)^2+...+(a_i-b_i)^2}$\n",
    "* Manhattan distance: $d(a,b)=\\mid a_1-b_1\\mid+...+\\mid a_i-b_i\\mid$\n",
    "\n",
    "Given train set(X_train, Y_train) and test set(X_test,Y_test):<br />\n",
    "KNN method:<br />\n",
    "* step 1: Set parameter k<br />\n",
    "(for each data in test set, follow step 2 to 4)\n",
    "* step 2: Calculate euclidean distance (or manhattan distance) between X_train and X_test.\n",
    "* step 3: Sort distances from small to large\n",
    "* step 4: Choose the first k distances and their corresponding train data\n",
    "* step 5: \n",
    "    * In KNN regression: Calculate the average of chosen k Y_train. The average is the regression value for X_test\n",
    "    * In KNN classification: Count the number of each class in chosen k Y_train. The class with the largest number is the class for X_test\n"
   ]
  },
  {
   "cell_type": "markdown",
   "metadata": {},
   "source": [
    "# 2.2 Implementation"
   ]
  },
  {
   "cell_type": "code",
   "execution_count": 10,
   "metadata": {},
   "outputs": [],
   "source": [
    "# function to calculate euclidean distance\n",
    "def euclidean_distance(a,b):\n",
    "    e_dist = 0\n",
    "    for i in range(len(a)):\n",
    "        e_dist = e_dist + (a[i] - b[i])**2\n",
    "    return pow(e_dist,0.5)"
   ]
  },
  {
   "cell_type": "code",
   "execution_count": 11,
   "metadata": {},
   "outputs": [],
   "source": [
    "# function to calculate manhattan distance\n",
    "def manhattan_distance(a,b):\n",
    "    m_dist = 0\n",
    "    for i in range(len(a)):\n",
    "        m_dist = m_dist + abs(a[i]-b[i])\n",
    "    return m_dist"
   ]
  },
  {
   "cell_type": "code",
   "execution_count": 12,
   "metadata": {},
   "outputs": [],
   "source": [
    "# funciton to perform KNN regression\n",
    "def knn_regression(Y_train,X_train,X_test,k):\n",
    "    m = len(X_train)\n",
    "    n = len(X_test)\n",
    "    Y_pred = np.zeros(n)\n",
    "    \n",
    "    for i in range(n):\n",
    "        \n",
    "        # calculate euclidean distance between each X_train and the ith X_test\n",
    "        dist = np.zeros(m)\n",
    "        for j in range(m):\n",
    "            dist[j] = euclidean_distance(X_train[j],X_test[i])\n",
    "        dist_sort = dist.argsort()\n",
    "        \n",
    "        # choose k nearest train data and calculte average target values\n",
    "        target_value = 0\n",
    "        for l in range(k):\n",
    "            target_value = target_value + Y_train[dist_sort[l]]\n",
    "        \n",
    "        Y_pred[i] = target_value/k\n",
    "               \n",
    "    return Y_pred"
   ]
  },
  {
   "cell_type": "code",
   "execution_count": 14,
   "metadata": {},
   "outputs": [],
   "source": [
    "# funciton to perform KNN classification\n",
    "def knn_classification(Y_train,X_train,X_test,k):\n",
    "    m = len(X_train)\n",
    "    n = len(X_test)\n",
    "    Y_pred = np.zeros(n)\n",
    "    \n",
    "    for i in range(n):\n",
    "        \n",
    "        # calculate euclidean distance between each X_train and the ith X_test\n",
    "        dist = np.zeros(m)\n",
    "        for j in range(m):\n",
    "            dist[j] = euclidean_distance(X_train[j],X_test[i])\n",
    "        dist_sort = dist.argsort()\n",
    "        \n",
    "        # choose k nearest train data and count the number of classes\n",
    "        count = {}\n",
    "        for l in range(k):\n",
    "            vote = Y_train[dist_sort[l]]\n",
    "            count[vote] = count.get(vote,0) + 1\n",
    "            \n",
    "        # sort the number of classes\n",
    "        count_sort = sorted(count.items(),key = operator.itemgetter(1),reverse = True)\n",
    "        \n",
    "        Y_pred[i] = count_sort[0][0]\n",
    "        \n",
    "        Y_pred = Y_pred.astype(np.int64)\n",
    "        \n",
    "               \n",
    "    return Y_pred"
   ]
  },
  {
   "cell_type": "code",
   "execution_count": 15,
   "metadata": {},
   "outputs": [],
   "source": [
    "# function to calculate correct rate\n",
    "def correct_knn(Y_test,Y_pred):\n",
    "    total = len(Y_test)\n",
    "    correct = 0\n",
    "    for i in range(total):\n",
    "        if Y_test[i] == Y_pred[i]:\n",
    "            correct = correct + 1\n",
    "    return correct/total"
   ]
  },
  {
   "cell_type": "markdown",
   "metadata": {},
   "source": [
    "# 2.3 Example"
   ]
  },
  {
   "cell_type": "code",
   "execution_count": 16,
   "metadata": {},
   "outputs": [],
   "source": [
    "# import iris dataset\n",
    "from sklearn.datasets import load_iris\n",
    "data = load_iris()"
   ]
  },
  {
   "cell_type": "code",
   "execution_count": 17,
   "metadata": {},
   "outputs": [
    {
     "data": {
      "text/plain": [
       "{'data': array([[5.1, 3.5, 1.4, 0.2],\n",
       "        [4.9, 3. , 1.4, 0.2],\n",
       "        [4.7, 3.2, 1.3, 0.2],\n",
       "        [4.6, 3.1, 1.5, 0.2],\n",
       "        [5. , 3.6, 1.4, 0.2],\n",
       "        [5.4, 3.9, 1.7, 0.4],\n",
       "        [4.6, 3.4, 1.4, 0.3],\n",
       "        [5. , 3.4, 1.5, 0.2],\n",
       "        [4.4, 2.9, 1.4, 0.2],\n",
       "        [4.9, 3.1, 1.5, 0.1],\n",
       "        [5.4, 3.7, 1.5, 0.2],\n",
       "        [4.8, 3.4, 1.6, 0.2],\n",
       "        [4.8, 3. , 1.4, 0.1],\n",
       "        [4.3, 3. , 1.1, 0.1],\n",
       "        [5.8, 4. , 1.2, 0.2],\n",
       "        [5.7, 4.4, 1.5, 0.4],\n",
       "        [5.4, 3.9, 1.3, 0.4],\n",
       "        [5.1, 3.5, 1.4, 0.3],\n",
       "        [5.7, 3.8, 1.7, 0.3],\n",
       "        [5.1, 3.8, 1.5, 0.3],\n",
       "        [5.4, 3.4, 1.7, 0.2],\n",
       "        [5.1, 3.7, 1.5, 0.4],\n",
       "        [4.6, 3.6, 1. , 0.2],\n",
       "        [5.1, 3.3, 1.7, 0.5],\n",
       "        [4.8, 3.4, 1.9, 0.2],\n",
       "        [5. , 3. , 1.6, 0.2],\n",
       "        [5. , 3.4, 1.6, 0.4],\n",
       "        [5.2, 3.5, 1.5, 0.2],\n",
       "        [5.2, 3.4, 1.4, 0.2],\n",
       "        [4.7, 3.2, 1.6, 0.2],\n",
       "        [4.8, 3.1, 1.6, 0.2],\n",
       "        [5.4, 3.4, 1.5, 0.4],\n",
       "        [5.2, 4.1, 1.5, 0.1],\n",
       "        [5.5, 4.2, 1.4, 0.2],\n",
       "        [4.9, 3.1, 1.5, 0.2],\n",
       "        [5. , 3.2, 1.2, 0.2],\n",
       "        [5.5, 3.5, 1.3, 0.2],\n",
       "        [4.9, 3.6, 1.4, 0.1],\n",
       "        [4.4, 3. , 1.3, 0.2],\n",
       "        [5.1, 3.4, 1.5, 0.2],\n",
       "        [5. , 3.5, 1.3, 0.3],\n",
       "        [4.5, 2.3, 1.3, 0.3],\n",
       "        [4.4, 3.2, 1.3, 0.2],\n",
       "        [5. , 3.5, 1.6, 0.6],\n",
       "        [5.1, 3.8, 1.9, 0.4],\n",
       "        [4.8, 3. , 1.4, 0.3],\n",
       "        [5.1, 3.8, 1.6, 0.2],\n",
       "        [4.6, 3.2, 1.4, 0.2],\n",
       "        [5.3, 3.7, 1.5, 0.2],\n",
       "        [5. , 3.3, 1.4, 0.2],\n",
       "        [7. , 3.2, 4.7, 1.4],\n",
       "        [6.4, 3.2, 4.5, 1.5],\n",
       "        [6.9, 3.1, 4.9, 1.5],\n",
       "        [5.5, 2.3, 4. , 1.3],\n",
       "        [6.5, 2.8, 4.6, 1.5],\n",
       "        [5.7, 2.8, 4.5, 1.3],\n",
       "        [6.3, 3.3, 4.7, 1.6],\n",
       "        [4.9, 2.4, 3.3, 1. ],\n",
       "        [6.6, 2.9, 4.6, 1.3],\n",
       "        [5.2, 2.7, 3.9, 1.4],\n",
       "        [5. , 2. , 3.5, 1. ],\n",
       "        [5.9, 3. , 4.2, 1.5],\n",
       "        [6. , 2.2, 4. , 1. ],\n",
       "        [6.1, 2.9, 4.7, 1.4],\n",
       "        [5.6, 2.9, 3.6, 1.3],\n",
       "        [6.7, 3.1, 4.4, 1.4],\n",
       "        [5.6, 3. , 4.5, 1.5],\n",
       "        [5.8, 2.7, 4.1, 1. ],\n",
       "        [6.2, 2.2, 4.5, 1.5],\n",
       "        [5.6, 2.5, 3.9, 1.1],\n",
       "        [5.9, 3.2, 4.8, 1.8],\n",
       "        [6.1, 2.8, 4. , 1.3],\n",
       "        [6.3, 2.5, 4.9, 1.5],\n",
       "        [6.1, 2.8, 4.7, 1.2],\n",
       "        [6.4, 2.9, 4.3, 1.3],\n",
       "        [6.6, 3. , 4.4, 1.4],\n",
       "        [6.8, 2.8, 4.8, 1.4],\n",
       "        [6.7, 3. , 5. , 1.7],\n",
       "        [6. , 2.9, 4.5, 1.5],\n",
       "        [5.7, 2.6, 3.5, 1. ],\n",
       "        [5.5, 2.4, 3.8, 1.1],\n",
       "        [5.5, 2.4, 3.7, 1. ],\n",
       "        [5.8, 2.7, 3.9, 1.2],\n",
       "        [6. , 2.7, 5.1, 1.6],\n",
       "        [5.4, 3. , 4.5, 1.5],\n",
       "        [6. , 3.4, 4.5, 1.6],\n",
       "        [6.7, 3.1, 4.7, 1.5],\n",
       "        [6.3, 2.3, 4.4, 1.3],\n",
       "        [5.6, 3. , 4.1, 1.3],\n",
       "        [5.5, 2.5, 4. , 1.3],\n",
       "        [5.5, 2.6, 4.4, 1.2],\n",
       "        [6.1, 3. , 4.6, 1.4],\n",
       "        [5.8, 2.6, 4. , 1.2],\n",
       "        [5. , 2.3, 3.3, 1. ],\n",
       "        [5.6, 2.7, 4.2, 1.3],\n",
       "        [5.7, 3. , 4.2, 1.2],\n",
       "        [5.7, 2.9, 4.2, 1.3],\n",
       "        [6.2, 2.9, 4.3, 1.3],\n",
       "        [5.1, 2.5, 3. , 1.1],\n",
       "        [5.7, 2.8, 4.1, 1.3],\n",
       "        [6.3, 3.3, 6. , 2.5],\n",
       "        [5.8, 2.7, 5.1, 1.9],\n",
       "        [7.1, 3. , 5.9, 2.1],\n",
       "        [6.3, 2.9, 5.6, 1.8],\n",
       "        [6.5, 3. , 5.8, 2.2],\n",
       "        [7.6, 3. , 6.6, 2.1],\n",
       "        [4.9, 2.5, 4.5, 1.7],\n",
       "        [7.3, 2.9, 6.3, 1.8],\n",
       "        [6.7, 2.5, 5.8, 1.8],\n",
       "        [7.2, 3.6, 6.1, 2.5],\n",
       "        [6.5, 3.2, 5.1, 2. ],\n",
       "        [6.4, 2.7, 5.3, 1.9],\n",
       "        [6.8, 3. , 5.5, 2.1],\n",
       "        [5.7, 2.5, 5. , 2. ],\n",
       "        [5.8, 2.8, 5.1, 2.4],\n",
       "        [6.4, 3.2, 5.3, 2.3],\n",
       "        [6.5, 3. , 5.5, 1.8],\n",
       "        [7.7, 3.8, 6.7, 2.2],\n",
       "        [7.7, 2.6, 6.9, 2.3],\n",
       "        [6. , 2.2, 5. , 1.5],\n",
       "        [6.9, 3.2, 5.7, 2.3],\n",
       "        [5.6, 2.8, 4.9, 2. ],\n",
       "        [7.7, 2.8, 6.7, 2. ],\n",
       "        [6.3, 2.7, 4.9, 1.8],\n",
       "        [6.7, 3.3, 5.7, 2.1],\n",
       "        [7.2, 3.2, 6. , 1.8],\n",
       "        [6.2, 2.8, 4.8, 1.8],\n",
       "        [6.1, 3. , 4.9, 1.8],\n",
       "        [6.4, 2.8, 5.6, 2.1],\n",
       "        [7.2, 3. , 5.8, 1.6],\n",
       "        [7.4, 2.8, 6.1, 1.9],\n",
       "        [7.9, 3.8, 6.4, 2. ],\n",
       "        [6.4, 2.8, 5.6, 2.2],\n",
       "        [6.3, 2.8, 5.1, 1.5],\n",
       "        [6.1, 2.6, 5.6, 1.4],\n",
       "        [7.7, 3. , 6.1, 2.3],\n",
       "        [6.3, 3.4, 5.6, 2.4],\n",
       "        [6.4, 3.1, 5.5, 1.8],\n",
       "        [6. , 3. , 4.8, 1.8],\n",
       "        [6.9, 3.1, 5.4, 2.1],\n",
       "        [6.7, 3.1, 5.6, 2.4],\n",
       "        [6.9, 3.1, 5.1, 2.3],\n",
       "        [5.8, 2.7, 5.1, 1.9],\n",
       "        [6.8, 3.2, 5.9, 2.3],\n",
       "        [6.7, 3.3, 5.7, 2.5],\n",
       "        [6.7, 3. , 5.2, 2.3],\n",
       "        [6.3, 2.5, 5. , 1.9],\n",
       "        [6.5, 3. , 5.2, 2. ],\n",
       "        [6.2, 3.4, 5.4, 2.3],\n",
       "        [5.9, 3. , 5.1, 1.8]]),\n",
       " 'target': array([0, 0, 0, 0, 0, 0, 0, 0, 0, 0, 0, 0, 0, 0, 0, 0, 0, 0, 0, 0, 0, 0,\n",
       "        0, 0, 0, 0, 0, 0, 0, 0, 0, 0, 0, 0, 0, 0, 0, 0, 0, 0, 0, 0, 0, 0,\n",
       "        0, 0, 0, 0, 0, 0, 1, 1, 1, 1, 1, 1, 1, 1, 1, 1, 1, 1, 1, 1, 1, 1,\n",
       "        1, 1, 1, 1, 1, 1, 1, 1, 1, 1, 1, 1, 1, 1, 1, 1, 1, 1, 1, 1, 1, 1,\n",
       "        1, 1, 1, 1, 1, 1, 1, 1, 1, 1, 1, 1, 2, 2, 2, 2, 2, 2, 2, 2, 2, 2,\n",
       "        2, 2, 2, 2, 2, 2, 2, 2, 2, 2, 2, 2, 2, 2, 2, 2, 2, 2, 2, 2, 2, 2,\n",
       "        2, 2, 2, 2, 2, 2, 2, 2, 2, 2, 2, 2, 2, 2, 2, 2, 2, 2]),\n",
       " 'target_names': array(['setosa', 'versicolor', 'virginica'], dtype='<U10'),\n",
       " 'DESCR': '.. _iris_dataset:\\n\\nIris plants dataset\\n--------------------\\n\\n**Data Set Characteristics:**\\n\\n    :Number of Instances: 150 (50 in each of three classes)\\n    :Number of Attributes: 4 numeric, predictive attributes and the class\\n    :Attribute Information:\\n        - sepal length in cm\\n        - sepal width in cm\\n        - petal length in cm\\n        - petal width in cm\\n        - class:\\n                - Iris-Setosa\\n                - Iris-Versicolour\\n                - Iris-Virginica\\n                \\n    :Summary Statistics:\\n\\n    ============== ==== ==== ======= ===== ====================\\n                    Min  Max   Mean    SD   Class Correlation\\n    ============== ==== ==== ======= ===== ====================\\n    sepal length:   4.3  7.9   5.84   0.83    0.7826\\n    sepal width:    2.0  4.4   3.05   0.43   -0.4194\\n    petal length:   1.0  6.9   3.76   1.76    0.9490  (high!)\\n    petal width:    0.1  2.5   1.20   0.76    0.9565  (high!)\\n    ============== ==== ==== ======= ===== ====================\\n\\n    :Missing Attribute Values: None\\n    :Class Distribution: 33.3% for each of 3 classes.\\n    :Creator: R.A. Fisher\\n    :Donor: Michael Marshall (MARSHALL%PLU@io.arc.nasa.gov)\\n    :Date: July, 1988\\n\\nThe famous Iris database, first used by Sir R.A. Fisher. The dataset is taken\\nfrom Fisher\\'s paper. Note that it\\'s the same as in R, but not as in the UCI\\nMachine Learning Repository, which has two wrong data points.\\n\\nThis is perhaps the best known database to be found in the\\npattern recognition literature.  Fisher\\'s paper is a classic in the field and\\nis referenced frequently to this day.  (See Duda & Hart, for example.)  The\\ndata set contains 3 classes of 50 instances each, where each class refers to a\\ntype of iris plant.  One class is linearly separable from the other 2; the\\nlatter are NOT linearly separable from each other.\\n\\n.. topic:: References\\n\\n   - Fisher, R.A. \"The use of multiple measurements in taxonomic problems\"\\n     Annual Eugenics, 7, Part II, 179-188 (1936); also in \"Contributions to\\n     Mathematical Statistics\" (John Wiley, NY, 1950).\\n   - Duda, R.O., & Hart, P.E. (1973) Pattern Classification and Scene Analysis.\\n     (Q327.D83) John Wiley & Sons.  ISBN 0-471-22361-1.  See page 218.\\n   - Dasarathy, B.V. (1980) \"Nosing Around the Neighborhood: A New System\\n     Structure and Classification Rule for Recognition in Partially Exposed\\n     Environments\".  IEEE Transactions on Pattern Analysis and Machine\\n     Intelligence, Vol. PAMI-2, No. 1, 67-71.\\n   - Gates, G.W. (1972) \"The Reduced Nearest Neighbor Rule\".  IEEE Transactions\\n     on Information Theory, May 1972, 431-433.\\n   - See also: 1988 MLC Proceedings, 54-64.  Cheeseman et al\"s AUTOCLASS II\\n     conceptual clustering system finds 3 classes in the data.\\n   - Many, many more ...',\n",
       " 'feature_names': ['sepal length (cm)',\n",
       "  'sepal width (cm)',\n",
       "  'petal length (cm)',\n",
       "  'petal width (cm)'],\n",
       " 'filename': '/Users/pc/opt/anaconda3/lib/python3.7/site-packages/sklearn/datasets/data/iris.csv'}"
      ]
     },
     "execution_count": 17,
     "metadata": {},
     "output_type": "execute_result"
    }
   ],
   "source": [
    "# show iris dataset\n",
    "data"
   ]
  },
  {
   "cell_type": "code",
   "execution_count": 18,
   "metadata": {},
   "outputs": [],
   "source": [
    "# divide iris dataset into training set and test set\n",
    "from sklearn.model_selection import train_test_split\n",
    "X_train, X_test, Y_train, Y_test = train_test_split(data.data, data.target, test_size = 0.2, random_state = 0)"
   ]
  },
  {
   "cell_type": "code",
   "execution_count": 19,
   "metadata": {},
   "outputs": [
    {
     "data": {
      "text/plain": [
       "array([2, 1, 0, 2, 0, 2, 0, 1, 1, 1, 2, 1, 1, 1, 2, 0, 1, 1, 0, 0, 2, 1,\n",
       "       0, 0, 2, 0, 0, 1, 1, 0])"
      ]
     },
     "execution_count": 19,
     "metadata": {},
     "output_type": "execute_result"
    }
   ],
   "source": [
    "# apply function knn and calculate correct rate\n",
    "knn_classification(Y_train,X_train,X_test,k=5)"
   ]
  },
  {
   "cell_type": "code",
   "execution_count": 20,
   "metadata": {
    "scrolled": true
   },
   "outputs": [
    {
     "data": {
      "text/plain": [
       "0.9666666666666667"
      ]
     },
     "execution_count": 20,
     "metadata": {},
     "output_type": "execute_result"
    }
   ],
   "source": [
    "# apply function correct_rate to calculate correct rate\n",
    "Y_pred = knn_classification(Y_train,X_train,X_test,k=5)\n",
    "correct_knn(Y_test,Y_pred)"
   ]
  },
  {
   "cell_type": "markdown",
   "metadata": {},
   "source": [
    "# 2.4 Quiz"
   ]
  },
  {
   "cell_type": "markdown",
   "metadata": {},
   "source": [
    "**Question 1** : KNN algorithm does more computation on test time rather than train time.<br />\n",
    "\n",
    "A.TRUE<br />\n",
    "B.FALSE<br />\n",
    "\n",
    "Answer: A"
   ]
  },
  {
   "cell_type": "markdown",
   "metadata": {},
   "source": [
    "**Question 2** : Which of the following distance metric can not be used in KNN?<br />\n",
    "\n",
    "A.Manhattan distance<br />\n",
    "B.Euclidean distance<br />\n",
    "C.Mahalanobis distance<br />\n",
    "D.All can be used<br />\n",
    "\n",
    "Answer: D"
   ]
  },
  {
   "cell_type": "markdown",
   "metadata": {},
   "source": [
    "**Question 3** : Which of the following option is true about KNN algorithm?<br />\n",
    "\n",
    "A.It can be used for classification<br />\n",
    "B.It can be used for regression<br />\n",
    "C.It can be used in both classification and regression<br />\n",
    "D.It can not be used in both classification and regression<br />\n",
    "\n",
    "Answer: C"
   ]
  },
  {
   "cell_type": "markdown",
   "metadata": {},
   "source": [
    "**Question 4** : Which of the following will be Euclidean Distance between the two data point A(1,3) and B(2,3)?<br />\n",
    "\n",
    "A.1<br />\n",
    "B.2<br />\n",
    "C.4<br />\n",
    "D.8<br />\n",
    "\n",
    "Answer: A"
   ]
  },
  {
   "cell_type": "markdown",
   "metadata": {},
   "source": [
    "# 3. Regression - Decision Tree"
   ]
  },
  {
   "cell_type": "markdown",
   "metadata": {},
   "source": [
    "# 3.1 Basic Idea"
   ]
  },
  {
   "cell_type": "markdown",
   "metadata": {},
   "source": [
    "Decision tree is a decision support tool that uses a tree-like model of decisions and their possible consequences.We can split the dataset based on the values of features to construct a decision tree.\n",
    "\n",
    "To determine which feature is the best choice to splite data, we have to calculate entropy and information gain.\n",
    "Entropy represent the complexity of data. Data is more complex when entropy is larger. Formula to Calculate entropy:\n",
    "$$H=-\\sum p(x_i)log_2p(x_i)$$\n",
    "Information gain represent the difference between two entropy values.\n",
    "\n",
    "Every time we split the data, we choose the feature with the maximum information gain."
   ]
  },
  {
   "cell_type": "markdown",
   "metadata": {},
   "source": [
    "# 3.2 Implementation"
   ]
  },
  {
   "cell_type": "code",
   "execution_count": 67,
   "metadata": {},
   "outputs": [],
   "source": [
    "# function to calculate entropy\n",
    "def entropy(dataset):\n",
    "    \n",
    "    n = len(dataset)\n",
    "    count_label = {}\n",
    "    for i in dataset:\n",
    "        label = i[-1]\n",
    "        if label not in count_label.keys():\n",
    "            count_label[label] = 0\n",
    "        count_label[label] = count_label[label]+1\n",
    "    \n",
    "    sum_entropy = 0\n",
    "    for key in count_label:\n",
    "        prob = float(count_label[key])/n\n",
    "        sum_entropy = sum_entropy - prob*log(prob,2)\n",
    "    \n",
    "    return sum_entropy"
   ]
  },
  {
   "cell_type": "code",
   "execution_count": 75,
   "metadata": {},
   "outputs": [],
   "source": [
    "# function to split data\n",
    "def split(dataset,col,value):\n",
    "    splited_data = []\n",
    "    for i in dataset:\n",
    "        if i[col] == value:\n",
    "            vector = i[:col]\n",
    "            vector.extend(i[col+1:])\n",
    "            splited_data.append(vector)\n",
    "    return splited_data"
   ]
  },
  {
   "cell_type": "code",
   "execution_count": 79,
   "metadata": {},
   "outputs": [],
   "source": [
    "# function to choose best split way\n",
    "def best_split(dataset):\n",
    "    num_label = len(dataset[0])-1\n",
    "    initial_entropy = entropy(dataset)\n",
    "    best_info_gain = 0\n",
    "    best_label_index = -1\n",
    "    for i in range(num_label):\n",
    "        featlist = [j[i] for j in dataset]\n",
    "        unique = set(featlist)\n",
    "        new_entropy = 0\n",
    "        for value in unique:\n",
    "            subdataset = split(dataset,i,value)\n",
    "            prob = len(subdataset)/float(len(dataset))\n",
    "            new_entropy = new_entropy+prob*entropy(subdataset)\n",
    "        info_gain = initial_entropy - new_entropy\n",
    "        if info_gain > best_info_gain:\n",
    "            best_info_gain = info_gain\n",
    "            best_splite_index = i\n",
    "    return best_splite_index"
   ]
  },
  {
   "cell_type": "code",
   "execution_count": 83,
   "metadata": {},
   "outputs": [],
   "source": [
    "# function to determine the final class\n",
    "def max_class(class_list):\n",
    "    count_class = {}\n",
    "    for i in class_list:\n",
    "        if i not in count_class.keys():\n",
    "            count_class[i] = 0\n",
    "        count_class[i] = count_class[i]+1\n",
    "    sort_class = sorted(count_class.items(),key=operator.itemgetter(1),reverse = True)\n",
    "    return sort_class[0][0]"
   ]
  },
  {
   "cell_type": "code",
   "execution_count": 111,
   "metadata": {},
   "outputs": [],
   "source": [
    "# function to construct desicion tree\n",
    "def decision_tree(dataset,label):\n",
    "    \n",
    "    class_list = [i[-1] for i in dataset]\n",
    "    if class_list.count(class_list[0]) == len(class_list):\n",
    "        return class_list[0]\n",
    "    if len(dataset[0])==1:\n",
    "        return max_class(class_list)\n",
    "    \n",
    "    best_index = best_split(dataset)\n",
    "    best_label = label[best_index]\n",
    "    label.append(best_label)\n",
    "    decision_tree = {best_label:{}}\n",
    "    del(label[best_index])\n",
    "    feature = [i[best_index] for i in dataset]\n",
    "    unique = set(feature)\n",
    "    \n",
    "    for value in unique:\n",
    "        sublabel = label[:]\n",
    "        new_dataset = split(dataset,best_index,value)\n",
    "        decision_tree[best_label][value] = decision_tree(new_dataset,sublabel)\n",
    "    \n",
    "    return decision_tree"
   ]
  },
  {
   "cell_type": "markdown",
   "metadata": {},
   "source": [
    "# 3.3 Example"
   ]
  },
  {
   "cell_type": "code",
   "execution_count": 128,
   "metadata": {},
   "outputs": [],
   "source": [
    "# import dataset\n",
    "from sklearn.tree import DecisionTreeRegressor\n",
    "dataset = pd.read_csv('position_salaries.csv')\n",
    "X = dataset.iloc[:, 1:2].values\n",
    "y = dataset.iloc[:, 2].values"
   ]
  },
  {
   "cell_type": "code",
   "execution_count": 129,
   "metadata": {
    "scrolled": true
   },
   "outputs": [
    {
     "data": {
      "text/plain": [
       "DecisionTreeRegressor(criterion='mse', max_depth=None, max_features=None,\n",
       "                      max_leaf_nodes=None, min_impurity_decrease=0.0,\n",
       "                      min_impurity_split=None, min_samples_leaf=1,\n",
       "                      min_samples_split=2, min_weight_fraction_leaf=0.0,\n",
       "                      presort=False, random_state=0, splitter='best')"
      ]
     },
     "execution_count": 129,
     "metadata": {},
     "output_type": "execute_result"
    }
   ],
   "source": [
    "# Use decision tree method to build model\n",
    "regressor = DecisionTreeRegressor(random_state = 0)\n",
    "regressor.fit(X, y)"
   ]
  },
  {
   "cell_type": "code",
   "execution_count": 130,
   "metadata": {},
   "outputs": [
    {
     "data": {
      "text/plain": [
       "array([150000.])"
      ]
     },
     "execution_count": 130,
     "metadata": {},
     "output_type": "execute_result"
    }
   ],
   "source": [
    "# Predicting a new result\n",
    "y_pred = regressor.predict([[6.5]])\n",
    "y_pred"
   ]
  },
  {
   "cell_type": "code",
   "execution_count": 131,
   "metadata": {},
   "outputs": [
    {
     "data": {
      "image/png": "[encoded data removed]",
      "text/plain": [
       "<Figure size 432x288 with 1 Axes>"
      ]
     },
     "metadata": {
      "needs_background": "light"
     },
     "output_type": "display_data"
    }
   ],
   "source": [
    "# Visulization\n",
    "X_grid = np.arange(min(X), max(X), 0.01)\n",
    "X_grid = X_grid.reshape((len(X_grid), 1))\n",
    "plt.scatter(X, y, color = 'red')\n",
    "plt.plot(X_grid, regressor.predict(X_grid), color = 'blue')\n",
    "plt.title('Decision Tree')\n",
    "plt.xlabel('Position level')\n",
    "plt.ylabel('Salary')\n",
    "plt.show()"
   ]
  },
  {
   "cell_type": "markdown",
   "metadata": {},
   "source": [
    "# 3.4 Quiz"
   ]
  },
  {
   "cell_type": "markdown",
   "metadata": {},
   "source": [
    "**Question 1** : Decision trees are an algorithm for which machine learning task?<br />\n",
    "\n",
    "A.clustering<br />\n",
    "B.classification<br />\n",
    "C.regression<br />\n",
    "D.classification and regression<br />\n",
    "\n",
    "Answer: D"
   ]
  },
  {
   "cell_type": "markdown",
   "metadata": {},
   "source": [
    "**Question 2** : Decision trees should have at least how many branches?<br />\n",
    "\n",
    "A.2<br />\n",
    "B.3<br />\n",
    "C.4<br />\n",
    "D.There is no minimum requirement<br />\n",
    "\n",
    "Answer: D"
   ]
  },
  {
   "cell_type": "markdown",
   "metadata": {},
   "source": [
    "**Question 3** : What is Decision Tree?<br />\n",
    "\n",
    "A.Flow-Chart<br />\n",
    "B.Structure in which internal node represents test on an attribute, each branch represents outcome of test and each leaf node represents class label<br />\n",
    "C.Flow-Chart & Structure in which internal node represents test on an attribute, each branch represents outcome of test and each leaf node represents class label<br />\n",
    "D.None of the mentioned<br />\n",
    "\n",
    "Answer: C"
   ]
  },
  {
   "cell_type": "markdown",
   "metadata": {},
   "source": [
    "**Question 4** : Which of the following are the advantage/s of Decision Trees?<br />\n",
    "\n",
    "A.Possible Scenarios can be added<br />\n",
    "B.Use a white box model, If given result is provided by a model<br />\n",
    "C.Use a white box model, If given result is provided by a model<br />\n",
    "D.All of the mentioned<br />\n",
    "\n",
    "Answer: D"
   ]
  }
 ],
 "metadata": {
  "kernelspec": {
   "display_name": "Python 3",
   "language": "python",
   "name": "python3"
  },
  "language_info": {
   "codemirror_mode": {
    "name": "ipython",
    "version": 3
   },
   "file_extension": ".py",
   "mimetype": "text/x-python",
   "name": "python",
   "nbconvert_exporter": "python",
   "pygments_lexer": "ipython3",
   "version": "3.7.4"
  }
 },
 "nbformat": 4,
 "nbformat_minor": 2
}
